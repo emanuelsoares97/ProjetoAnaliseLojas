{
 "cells": [
  {
   "cell_type": "markdown",
   "metadata": {},
   "source": [
    "Analise Receita Total"
   ]
  },
  {
   "cell_type": "code",
   "execution_count": 3,
   "metadata": {},
   "outputs": [
    {
     "ename": "ModuleNotFoundError",
     "evalue": "No module named 'classes'",
     "output_type": "error",
     "traceback": [
      "\u001b[1;31m---------------------------------------------------------------------------\u001b[0m",
      "\u001b[1;31mModuleNotFoundError\u001b[0m                       Traceback (most recent call last)",
      "Cell \u001b[1;32mIn[3], line 3\u001b[0m\n\u001b[0;32m      1\u001b[0m \u001b[38;5;28;01mimport\u001b[39;00m\u001b[38;5;250m \u001b[39m\u001b[38;5;21;01mpandas\u001b[39;00m\u001b[38;5;250m \u001b[39m\u001b[38;5;28;01mas\u001b[39;00m\u001b[38;5;250m \u001b[39m\u001b[38;5;21;01mpd\u001b[39;00m\n\u001b[1;32m----> 3\u001b[0m \u001b[38;5;28;01mfrom\u001b[39;00m\u001b[38;5;250m \u001b[39m\u001b[38;5;21;01mclasses\u001b[39;00m\u001b[38;5;21;01m.\u001b[39;00m\u001b[38;5;21;01mclassdatabasemanager\u001b[39;00m\u001b[38;5;250m \u001b[39m\u001b[38;5;28;01mimport\u001b[39;00m DatabaseManager\n\u001b[0;32m      4\u001b[0m \u001b[38;5;28;01mfrom\u001b[39;00m\u001b[38;5;250m \u001b[39m\u001b[38;5;21;01mutils\u001b[39;00m\u001b[38;5;21;01m.\u001b[39;00m\u001b[38;5;21;01mlogger_utils\u001b[39;00m\u001b[38;5;250m \u001b[39m\u001b[38;5;28;01mimport\u001b[39;00m logging\n\u001b[0;32m      7\u001b[0m \u001b[38;5;66;03m# classe DatabaseManager para poder acedar as tabelas\u001b[39;00m\n",
      "\u001b[1;31mModuleNotFoundError\u001b[0m: No module named 'classes'"
     ]
    }
   ],
   "source": [
    "import pandas as pd\n",
    "\n",
    "from classes.classdatabasemanager import DatabaseManager\n",
    "from utils.logger_utils import logging\n",
    "\n",
    "\n",
    "# classe DatabaseManager para poder acedar as tabelas\n",
    "db_manager = DatabaseManager(\"database/loja.db\")\n",
    "\n",
    "# tabelas carregadas em df\n",
    "df_produtos = db_manager.fetch_data_to_df(\"SELECT * FROM produtos;\")\n",
    "df_vendas = db_manager.fetch_data_to_df(\"SELECT * FROM vendas;\")\n",
    "\n",
    "# mostrar os primeiros 5 registos\n",
    "display(df_produtos.head())\n",
    "display(df_vendas.head())"
   ]
  },
  {
   "cell_type": "code",
   "execution_count": 26,
   "metadata": {},
   "outputs": [
    {
     "data": {
      "text/html": [
       "<div>\n",
       "<style scoped>\n",
       "    .dataframe tbody tr th:only-of-type {\n",
       "        vertical-align: middle;\n",
       "    }\n",
       "\n",
       "    .dataframe tbody tr th {\n",
       "        vertical-align: top;\n",
       "    }\n",
       "\n",
       "    .dataframe thead th {\n",
       "        text-align: right;\n",
       "    }\n",
       "</style>\n",
       "<table border=\"1\" class=\"dataframe\">\n",
       "  <thead>\n",
       "    <tr style=\"text-align: right;\">\n",
       "      <th></th>\n",
       "      <th>id_x</th>\n",
       "      <th>id_produto</th>\n",
       "      <th>id_cliente</th>\n",
       "      <th>id_loja</th>\n",
       "      <th>quantidade</th>\n",
       "      <th>data</th>\n",
       "      <th>id_y</th>\n",
       "      <th>nome</th>\n",
       "      <th>preco</th>\n",
       "      <th>categoria</th>\n",
       "      <th>Receita_Venda</th>\n",
       "    </tr>\n",
       "  </thead>\n",
       "  <tbody>\n",
       "    <tr>\n",
       "      <th>0</th>\n",
       "      <td>1</td>\n",
       "      <td>6</td>\n",
       "      <td>83</td>\n",
       "      <td>4</td>\n",
       "      <td>3</td>\n",
       "      <td>2024-08-09</td>\n",
       "      <td>6</td>\n",
       "      <td>Placa Gráfica RTX 3080</td>\n",
       "      <td>350000</td>\n",
       "      <td>Placas Gráficas</td>\n",
       "      <td>1050000</td>\n",
       "    </tr>\n",
       "    <tr>\n",
       "      <th>1</th>\n",
       "      <td>2</td>\n",
       "      <td>7</td>\n",
       "      <td>28</td>\n",
       "      <td>1</td>\n",
       "      <td>3</td>\n",
       "      <td>2024-08-16</td>\n",
       "      <td>7</td>\n",
       "      <td>Processador AMD Ryzen 9</td>\n",
       "      <td>180000</td>\n",
       "      <td>Processadores</td>\n",
       "      <td>540000</td>\n",
       "    </tr>\n",
       "    <tr>\n",
       "      <th>2</th>\n",
       "      <td>3</td>\n",
       "      <td>10</td>\n",
       "      <td>64</td>\n",
       "      <td>2</td>\n",
       "      <td>2</td>\n",
       "      <td>2024-03-08</td>\n",
       "      <td>10</td>\n",
       "      <td>Fonte Corsair 750W</td>\n",
       "      <td>60000</td>\n",
       "      <td>Fontes de Alimentação</td>\n",
       "      <td>120000</td>\n",
       "    </tr>\n",
       "    <tr>\n",
       "      <th>3</th>\n",
       "      <td>4</td>\n",
       "      <td>5</td>\n",
       "      <td>86</td>\n",
       "      <td>4</td>\n",
       "      <td>2</td>\n",
       "      <td>2024-11-18</td>\n",
       "      <td>5</td>\n",
       "      <td>Rato Logitech MX Master</td>\n",
       "      <td>12000</td>\n",
       "      <td>Ratos</td>\n",
       "      <td>24000</td>\n",
       "    </tr>\n",
       "    <tr>\n",
       "      <th>4</th>\n",
       "      <td>5</td>\n",
       "      <td>3</td>\n",
       "      <td>54</td>\n",
       "      <td>3</td>\n",
       "      <td>2</td>\n",
       "      <td>2024-12-10</td>\n",
       "      <td>3</td>\n",
       "      <td>Monitor LG UltraGear</td>\n",
       "      <td>45000</td>\n",
       "      <td>Monitores</td>\n",
       "      <td>90000</td>\n",
       "    </tr>\n",
       "  </tbody>\n",
       "</table>\n",
       "</div>"
      ],
      "text/plain": [
       "   id_x  id_produto  id_cliente  id_loja  quantidade        data  id_y  \\\n",
       "0     1           6          83        4           3  2024-08-09     6   \n",
       "1     2           7          28        1           3  2024-08-16     7   \n",
       "2     3          10          64        2           2  2024-03-08    10   \n",
       "3     4           5          86        4           2  2024-11-18     5   \n",
       "4     5           3          54        3           2  2024-12-10     3   \n",
       "\n",
       "                      nome   preco              categoria  Receita_Venda  \n",
       "0   Placa Gráfica RTX 3080  350000        Placas Gráficas        1050000  \n",
       "1  Processador AMD Ryzen 9  180000          Processadores         540000  \n",
       "2       Fonte Corsair 750W   60000  Fontes de Alimentação         120000  \n",
       "3  Rato Logitech MX Master   12000                  Ratos          24000  \n",
       "4     Monitor LG UltraGear   45000              Monitores          90000  "
      ]
     },
     "metadata": {},
     "output_type": "display_data"
    }
   ],
   "source": [
    "# Código para calcular produtos mais vendidos\n",
    "df_merged = df_vendas.merge(df_produtos, left_on=\"id_produto\", right_on=\"id\")\n",
    "\n",
    "#calcular a receita por venda\n",
    "df_merged[\"Receita_Venda\"]=df_merged[\"quantidade\"]*df_merged[\"preco\"]\n",
    "\n",
    "display(df_merged.head())\n",
    "\n"
   ]
  },
  {
   "cell_type": "code",
   "execution_count": 27,
   "metadata": {},
   "outputs": [
    {
     "name": "stdout",
     "output_type": "stream",
     "text": [
      "                       nome  Receita_Venda\n",
      "0    Placa Gráfica RTX 3080       33250000\n",
      "1            MacBook Pro 16       23000000\n",
      "2   Processador AMD Ryzen 9       21780000\n",
      "3      Portátil Dell XPS 13       10320000\n",
      "4      SSD NVMe Samsung 1TB        9090000\n",
      "5  Memória RAM Corsair 16GB        6640000\n",
      "6      Monitor LG UltraGear        4545000\n",
      "7        Fonte Corsair 750W        3840000\n",
      "8   Teclado Mecânico HyperX        1500000\n",
      "9   Rato Logitech MX Master         876000\n"
     ]
    }
   ],
   "source": [
    "#receita total por produto, do maior para o menor faturamento\n",
    "receita_por_produto=df_merged.groupby(\"nome\")[\"Receita_Venda\"].sum().sort_values(ascending=False)\n",
    "receita_por_produto_df=receita_por_produto.reset_index()\n",
    "print(receita_por_produto_df.head(10))"
   ]
  },
  {
   "cell_type": "code",
   "execution_count": null,
   "metadata": {},
   "outputs": [
    {
     "ename": "ModuleNotFoundError",
     "evalue": "No module named 'utils'",
     "output_type": "error",
     "traceback": [
      "\u001b[1;31m---------------------------------------------------------------------------\u001b[0m",
      "\u001b[1;31mModuleNotFoundError\u001b[0m                       Traceback (most recent call last)",
      "Cell \u001b[1;32mIn[2], line 2\u001b[0m\n\u001b[0;32m      1\u001b[0m \u001b[38;5;66;03m# Criar gráfico de barras\u001b[39;00m\n\u001b[1;32m----> 2\u001b[0m \u001b[38;5;28;01mfrom\u001b[39;00m\u001b[38;5;250m \u001b[39m\u001b[38;5;21;01mutils\u001b[39;00m\u001b[38;5;21;01m.\u001b[39;00m\u001b[38;5;21;01mfuncoes\u001b[39;00m\u001b[38;5;250m \u001b[39m\u001b[38;5;28;01mimport\u001b[39;00m criar_graficos_matplotlib_pyplot\n\u001b[0;32m      4\u001b[0m criar_graficos_matplotlib_pyplot(receita_por_produto, \u001b[38;5;124m\"\u001b[39m\u001b[38;5;124mTop 10 Produtos Com Maior Receita\u001b[39m\u001b[38;5;124m\"\u001b[39m, \u001b[38;5;124m\"\u001b[39m\u001b[38;5;124mNome do Produto\u001b[39m\u001b[38;5;124m\"\u001b[39m, \u001b[38;5;124m\"\u001b[39m\u001b[38;5;124mReceita por Produto\u001b[39m\u001b[38;5;124m\"\u001b[39m)\n",
      "\u001b[1;31mModuleNotFoundError\u001b[0m: No module named 'utils'"
     ]
    }
   ],
   "source": [
    "# Criar gráfico de barras\n",
    "from utils.funcoes import criar_graficos_matplotlib_pyplot\n",
    "\n",
    "criar_graficos_matplotlib_pyplot(receita_por_produto, \"Top 10 Produtos Com Maior Receita\", \"Nome do Produto\", \"Receita por Produto\")"
   ]
  },
  {
   "cell_type": "code",
   "execution_count": 29,
   "metadata": {},
   "outputs": [],
   "source": [
    "\n",
    "from utils.funcoes import guardar_analise_csv\n",
    "\n",
    "# guardar ficheiro em csv\n",
    "guardar_analise_csv(receita_por_produto_df, \"top10_receita_por_produto\")\n",
    "\n",
    "\n",
    "\n"
   ]
  }
 ],
 "metadata": {
  "kernelspec": {
   "display_name": "venv",
   "language": "python",
   "name": "python3"
  },
  "language_info": {
   "codemirror_mode": {
    "name": "ipython",
    "version": 3
   },
   "file_extension": ".py",
   "mimetype": "text/x-python",
   "name": "python",
   "nbconvert_exporter": "python",
   "pygments_lexer": "ipython3",
   "version": "3.12.8"
  }
 },
 "nbformat": 4,
 "nbformat_minor": 2
}
