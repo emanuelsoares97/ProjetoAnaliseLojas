{
 "cells": [
  {
   "cell_type": "code",
   "execution_count": 6,
   "metadata": {},
   "outputs": [
    {
     "name": "stdout",
     "output_type": "stream",
     "text": [
      "C:\\Users\\Tuta\\Documents\\GitHub\\ProjetoAnaliseVendas\n",
      "C:\\Program Files\\Python312\\python312.zip\n",
      "C:\\Program Files\\Python312\\DLLs\n",
      "C:\\Program Files\\Python312\\Lib\n",
      "C:\\Program Files\\Python312\n",
      "c:\\Users\\Tuta\\Documents\\GitHub\\ProjetoAnaliseLojas\\venv\n",
      "\n",
      "c:\\Users\\Tuta\\Documents\\GitHub\\ProjetoAnaliseLojas\\venv\\Lib\\site-packages\n",
      "c:\\Users\\Tuta\\Documents\\GitHub\\ProjetoAnaliseLojas\\venv\\Lib\\site-packages\\win32\n",
      "c:\\Users\\Tuta\\Documents\\GitHub\\ProjetoAnaliseLojas\\venv\\Lib\\site-packages\\win32\\lib\n",
      "c:\\Users\\Tuta\\Documents\\GitHub\\ProjetoAnaliseLojas\\venv\\Lib\\site-packages\\Pythonwin\n"
     ]
    }
   ],
   "source": [
    "import sys\n",
    "import os\n",
    "\n",
    "# Exibir os caminhos que o Python está procurando módulos\n",
    "print(\"\\n\".join(sys.path))\n"
   ]
  },
  {
   "cell_type": "code",
   "execution_count": 4,
   "metadata": {},
   "outputs": [
    {
     "ename": "ModuleNotFoundError",
     "evalue": "No module named 'classes'",
     "output_type": "error",
     "traceback": [
      "\u001b[1;31m---------------------------------------------------------------------------\u001b[0m",
      "\u001b[1;31mModuleNotFoundError\u001b[0m                       Traceback (most recent call last)",
      "Cell \u001b[1;32mIn[4], line 3\u001b[0m\n\u001b[0;32m      1\u001b[0m \u001b[38;5;28;01mimport\u001b[39;00m\u001b[38;5;250m \u001b[39m\u001b[38;5;21;01mpandas\u001b[39;00m\u001b[38;5;250m \u001b[39m\u001b[38;5;28;01mas\u001b[39;00m\u001b[38;5;250m \u001b[39m\u001b[38;5;21;01mpd\u001b[39;00m\n\u001b[0;32m      2\u001b[0m \u001b[38;5;28;01mimport\u001b[39;00m\u001b[38;5;250m \u001b[39m\u001b[38;5;21;01mmatplotlib\u001b[39;00m\u001b[38;5;21;01m.\u001b[39;00m\u001b[38;5;21;01mpyplot\u001b[39;00m\u001b[38;5;250m \u001b[39m\u001b[38;5;28;01mas\u001b[39;00m\u001b[38;5;250m \u001b[39m\u001b[38;5;21;01mplt\u001b[39;00m\n\u001b[1;32m----> 3\u001b[0m \u001b[38;5;28;01mfrom\u001b[39;00m\u001b[38;5;250m \u001b[39m\u001b[38;5;21;01mclasses\u001b[39;00m\u001b[38;5;21;01m.\u001b[39;00m\u001b[38;5;21;01mclassdatabasemanager\u001b[39;00m\u001b[38;5;250m \u001b[39m\u001b[38;5;28;01mimport\u001b[39;00m DatabaseManager\n\u001b[0;32m      4\u001b[0m \u001b[38;5;28;01mfrom\u001b[39;00m\u001b[38;5;250m \u001b[39m\u001b[38;5;21;01mutils\u001b[39;00m\u001b[38;5;21;01m.\u001b[39;00m\u001b[38;5;21;01mlogger_utils\u001b[39;00m\u001b[38;5;250m \u001b[39m\u001b[38;5;28;01mimport\u001b[39;00m logging\n\u001b[0;32m      6\u001b[0m \u001b[38;5;66;03m# classe DatabaseManager para poder acedar as tabelas\u001b[39;00m\n",
      "\u001b[1;31mModuleNotFoundError\u001b[0m: No module named 'classes'"
     ]
    }
   ],
   "source": [
    "import pandas as pd\n",
    "import matplotlib.pyplot as plt\n",
    "from classes.classdatabasemanager import DatabaseManager\n",
    "from utils.logger_utils import logging\n",
    "\n",
    "# classe DatabaseManager para poder acedar as tabelas\n",
    "db_manager = DatabaseManager()\n",
    "\n",
    "# tabelas carregadas em df\n",
    "df_produtos = db_manager.fetch_data_to_df(\"SELECT * FROM produtos;\")\n",
    "df_clientes = db_manager.fetch_data_to_df(\"SELECT * FROM clientes;\")\n",
    "df_atendentes = db_manager.fetch_data_to_df(\"SELECT * FROM atendentes;\")\n",
    "df_vendas = db_manager.fetch_data_to_df(\"SELECT * FROM vendas;\")\n",
    "df_lojas = db_manager.fetch_data_to_df(\"SELECT * FROM lojas;\")\n",
    "\n",
    "# mostrar os primeiros 5 registos\n",
    "display(df_produtos.head())\n",
    "display(df_clientes.head())\n",
    "display(df_atendentes.head())\n",
    "display(df_vendas.head())\n",
    "display(df_lojas.head())"
   ]
  }
 ],
 "metadata": {
  "kernelspec": {
   "display_name": "venv",
   "language": "python",
   "name": "python3"
  },
  "language_info": {
   "codemirror_mode": {
    "name": "ipython",
    "version": 3
   },
   "file_extension": ".py",
   "mimetype": "text/x-python",
   "name": "python",
   "nbconvert_exporter": "python",
   "pygments_lexer": "ipython3",
   "version": "3.12.8"
  }
 },
 "nbformat": 4,
 "nbformat_minor": 2
}
